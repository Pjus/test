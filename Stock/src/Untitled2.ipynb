{
 "cells": [
  {
   "cell_type": "code",
   "execution_count": 1,
   "metadata": {},
   "outputs": [
    {
     "data": {
      "text/plain": [
       "'D:\\\\SD_python\\\\test'"
      ]
     },
     "execution_count": 1,
     "metadata": {},
     "output_type": "execute_result"
    }
   ],
   "source": [
    "import os\n",
    "os.chdir('../..')\n",
    "os.getcwd()"
   ]
  },
  {
   "cell_type": "code",
   "execution_count": 5,
   "metadata": {},
   "outputs": [],
   "source": [
    "import pandas as pd\n",
    "# my packages\n",
    "from Indicator import get_Bolinger_Band\n",
    "from Indicator import get_DMI\n",
    "from Indicator import get_MACD\n",
    "from Indicator import get_RSI\n",
    "from Indicator import get_OBV"
   ]
  },
  {
   "cell_type": "code",
   "execution_count": 8,
   "metadata": {},
   "outputs": [],
   "source": [
    "\n",
    "bolingerband = get_Bolinger_Band.fnBolingerBand\n",
    "dmi = get_DMI.cal_dmi\n",
    "macd = get_MACD.fnMACD\n",
    "rsi = get_RSI.fnRSI\n",
    "obv = get_OBV.faster_OBV"
   ]
  },
  {
   "cell_type": "code",
   "execution_count": 9,
   "metadata": {},
   "outputs": [],
   "source": [
    "identifier = 'AAPL'\n",
    "data = pd.read_csv('./Stock/raw_data/{}.csv'.format(identifier))"
   ]
  },
  {
   "cell_type": "code",
   "execution_count": 10,
   "metadata": {},
   "outputs": [
    {
     "data": {
      "text/html": [
       "<div>\n",
       "<style scoped>\n",
       "    .dataframe tbody tr th:only-of-type {\n",
       "        vertical-align: middle;\n",
       "    }\n",
       "\n",
       "    .dataframe tbody tr th {\n",
       "        vertical-align: top;\n",
       "    }\n",
       "\n",
       "    .dataframe thead th {\n",
       "        text-align: right;\n",
       "    }\n",
       "</style>\n",
       "<table border=\"1\" class=\"dataframe\">\n",
       "  <thead>\n",
       "    <tr style=\"text-align: right;\">\n",
       "      <th></th>\n",
       "      <th>Date</th>\n",
       "      <th>Open</th>\n",
       "      <th>High</th>\n",
       "      <th>Low</th>\n",
       "      <th>Close</th>\n",
       "      <th>Volume</th>\n",
       "      <th>Dividends</th>\n",
       "      <th>Stock Splits</th>\n",
       "      <th>20d_ma</th>\n",
       "      <th>Bol_upper</th>\n",
       "      <th>...</th>\n",
       "      <th>PDI</th>\n",
       "      <th>MDI</th>\n",
       "      <th>ADX</th>\n",
       "      <th>EMAFast</th>\n",
       "      <th>EMASlow</th>\n",
       "      <th>MACD</th>\n",
       "      <th>MACDSignal</th>\n",
       "      <th>MACDDiff</th>\n",
       "      <th>RSI</th>\n",
       "      <th>OBV</th>\n",
       "    </tr>\n",
       "  </thead>\n",
       "  <tbody>\n",
       "    <tr>\n",
       "      <th>0</th>\n",
       "      <td>2001-01-02</td>\n",
       "      <td>0.92</td>\n",
       "      <td>0.94</td>\n",
       "      <td>0.90</td>\n",
       "      <td>0.92</td>\n",
       "      <td>113078000</td>\n",
       "      <td>0.0</td>\n",
       "      <td>0.0</td>\n",
       "      <td>NaN</td>\n",
       "      <td>NaN</td>\n",
       "      <td>...</td>\n",
       "      <td>NaN</td>\n",
       "      <td>NaN</td>\n",
       "      <td>NaN</td>\n",
       "      <td>NaN</td>\n",
       "      <td>NaN</td>\n",
       "      <td>NaN</td>\n",
       "      <td>NaN</td>\n",
       "      <td>NaN</td>\n",
       "      <td>NaN</td>\n",
       "      <td>113078000</td>\n",
       "    </tr>\n",
       "    <tr>\n",
       "      <th>1</th>\n",
       "      <td>2001-01-03</td>\n",
       "      <td>0.90</td>\n",
       "      <td>1.03</td>\n",
       "      <td>0.89</td>\n",
       "      <td>1.01</td>\n",
       "      <td>204268400</td>\n",
       "      <td>0.0</td>\n",
       "      <td>0.0</td>\n",
       "      <td>NaN</td>\n",
       "      <td>NaN</td>\n",
       "      <td>...</td>\n",
       "      <td>0.642857</td>\n",
       "      <td>0.000000</td>\n",
       "      <td>1.000000</td>\n",
       "      <td>NaN</td>\n",
       "      <td>NaN</td>\n",
       "      <td>NaN</td>\n",
       "      <td>NaN</td>\n",
       "      <td>NaN</td>\n",
       "      <td>NaN</td>\n",
       "      <td>317346400</td>\n",
       "    </tr>\n",
       "    <tr>\n",
       "      <th>2</th>\n",
       "      <td>2001-01-04</td>\n",
       "      <td>1.12</td>\n",
       "      <td>1.14</td>\n",
       "      <td>1.04</td>\n",
       "      <td>1.06</td>\n",
       "      <td>184849000</td>\n",
       "      <td>0.0</td>\n",
       "      <td>0.0</td>\n",
       "      <td>NaN</td>\n",
       "      <td>NaN</td>\n",
       "      <td>...</td>\n",
       "      <td>0.748011</td>\n",
       "      <td>0.000000</td>\n",
       "      <td>1.000000</td>\n",
       "      <td>NaN</td>\n",
       "      <td>NaN</td>\n",
       "      <td>NaN</td>\n",
       "      <td>NaN</td>\n",
       "      <td>NaN</td>\n",
       "      <td>NaN</td>\n",
       "      <td>502195400</td>\n",
       "    </tr>\n",
       "    <tr>\n",
       "      <th>3</th>\n",
       "      <td>2001-01-05</td>\n",
       "      <td>1.05</td>\n",
       "      <td>1.07</td>\n",
       "      <td>0.99</td>\n",
       "      <td>1.01</td>\n",
       "      <td>103089000</td>\n",
       "      <td>0.0</td>\n",
       "      <td>0.0</td>\n",
       "      <td>NaN</td>\n",
       "      <td>NaN</td>\n",
       "      <td>...</td>\n",
       "      <td>0.547083</td>\n",
       "      <td>0.167885</td>\n",
       "      <td>0.820600</td>\n",
       "      <td>NaN</td>\n",
       "      <td>NaN</td>\n",
       "      <td>NaN</td>\n",
       "      <td>NaN</td>\n",
       "      <td>NaN</td>\n",
       "      <td>NaN</td>\n",
       "      <td>399106400</td>\n",
       "    </tr>\n",
       "    <tr>\n",
       "      <th>4</th>\n",
       "      <td>2001-01-08</td>\n",
       "      <td>1.05</td>\n",
       "      <td>1.05</td>\n",
       "      <td>0.99</td>\n",
       "      <td>1.02</td>\n",
       "      <td>93424800</td>\n",
       "      <td>0.0</td>\n",
       "      <td>0.0</td>\n",
       "      <td>NaN</td>\n",
       "      <td>NaN</td>\n",
       "      <td>...</td>\n",
       "      <td>0.443896</td>\n",
       "      <td>0.136220</td>\n",
       "      <td>0.731810</td>\n",
       "      <td>NaN</td>\n",
       "      <td>NaN</td>\n",
       "      <td>NaN</td>\n",
       "      <td>NaN</td>\n",
       "      <td>NaN</td>\n",
       "      <td>NaN</td>\n",
       "      <td>492531200</td>\n",
       "    </tr>\n",
       "    <tr>\n",
       "      <th>...</th>\n",
       "      <td>...</td>\n",
       "      <td>...</td>\n",
       "      <td>...</td>\n",
       "      <td>...</td>\n",
       "      <td>...</td>\n",
       "      <td>...</td>\n",
       "      <td>...</td>\n",
       "      <td>...</td>\n",
       "      <td>...</td>\n",
       "      <td>...</td>\n",
       "      <td>...</td>\n",
       "      <td>...</td>\n",
       "      <td>...</td>\n",
       "      <td>...</td>\n",
       "      <td>...</td>\n",
       "      <td>...</td>\n",
       "      <td>...</td>\n",
       "      <td>...</td>\n",
       "      <td>...</td>\n",
       "      <td>...</td>\n",
       "      <td>...</td>\n",
       "    </tr>\n",
       "    <tr>\n",
       "      <th>4900</th>\n",
       "      <td>2020-06-25</td>\n",
       "      <td>360.70</td>\n",
       "      <td>365.00</td>\n",
       "      <td>357.57</td>\n",
       "      <td>364.84</td>\n",
       "      <td>34380600</td>\n",
       "      <td>0.0</td>\n",
       "      <td>0.0</td>\n",
       "      <td>342.2735</td>\n",
       "      <td>372.843222</td>\n",
       "      <td>...</td>\n",
       "      <td>0.310221</td>\n",
       "      <td>0.160156</td>\n",
       "      <td>0.402243</td>\n",
       "      <td>352.162500</td>\n",
       "      <td>336.674231</td>\n",
       "      <td>15.488269</td>\n",
       "      <td>13.421859</td>\n",
       "      <td>2.066410</td>\n",
       "      <td>70.781759</td>\n",
       "      <td>23755073200</td>\n",
       "    </tr>\n",
       "    <tr>\n",
       "      <th>4901</th>\n",
       "      <td>2020-06-26</td>\n",
       "      <td>364.41</td>\n",
       "      <td>365.32</td>\n",
       "      <td>353.02</td>\n",
       "      <td>353.63</td>\n",
       "      <td>51314200</td>\n",
       "      <td>0.0</td>\n",
       "      <td>0.0</td>\n",
       "      <td>344.0580</td>\n",
       "      <td>372.756339</td>\n",
       "      <td>...</td>\n",
       "      <td>0.258546</td>\n",
       "      <td>0.195097</td>\n",
       "      <td>0.367260</td>\n",
       "      <td>352.228333</td>\n",
       "      <td>337.997308</td>\n",
       "      <td>14.231026</td>\n",
       "      <td>13.902877</td>\n",
       "      <td>0.328148</td>\n",
       "      <td>52.462578</td>\n",
       "      <td>23703759000</td>\n",
       "    </tr>\n",
       "    <tr>\n",
       "      <th>4902</th>\n",
       "      <td>2020-06-29</td>\n",
       "      <td>353.25</td>\n",
       "      <td>362.17</td>\n",
       "      <td>351.28</td>\n",
       "      <td>361.78</td>\n",
       "      <td>32661500</td>\n",
       "      <td>0.0</td>\n",
       "      <td>0.0</td>\n",
       "      <td>346.0545</td>\n",
       "      <td>373.787166</td>\n",
       "      <td>...</td>\n",
       "      <td>0.220947</td>\n",
       "      <td>0.189961</td>\n",
       "      <td>0.328346</td>\n",
       "      <td>354.385000</td>\n",
       "      <td>339.725385</td>\n",
       "      <td>14.659615</td>\n",
       "      <td>14.294679</td>\n",
       "      <td>0.364936</td>\n",
       "      <td>60.165891</td>\n",
       "      <td>23736420500</td>\n",
       "    </tr>\n",
       "    <tr>\n",
       "      <th>4903</th>\n",
       "      <td>2020-06-30</td>\n",
       "      <td>360.08</td>\n",
       "      <td>365.98</td>\n",
       "      <td>360.00</td>\n",
       "      <td>364.80</td>\n",
       "      <td>35055800</td>\n",
       "      <td>0.0</td>\n",
       "      <td>0.0</td>\n",
       "      <td>348.1275</td>\n",
       "      <td>374.892470</td>\n",
       "      <td>...</td>\n",
       "      <td>0.256059</td>\n",
       "      <td>0.173935</td>\n",
       "      <td>0.310032</td>\n",
       "      <td>356.551667</td>\n",
       "      <td>341.491154</td>\n",
       "      <td>15.060513</td>\n",
       "      <td>14.611980</td>\n",
       "      <td>0.448533</td>\n",
       "      <td>64.948454</td>\n",
       "      <td>23771476300</td>\n",
       "    </tr>\n",
       "    <tr>\n",
       "      <th>4904</th>\n",
       "      <td>2020-07-01</td>\n",
       "      <td>365.12</td>\n",
       "      <td>367.36</td>\n",
       "      <td>363.91</td>\n",
       "      <td>364.11</td>\n",
       "      <td>27684300</td>\n",
       "      <td>0.0</td>\n",
       "      <td>0.0</td>\n",
       "      <td>350.0770</td>\n",
       "      <td>375.428472</td>\n",
       "      <td>...</td>\n",
       "      <td>0.263713</td>\n",
       "      <td>0.164686</td>\n",
       "      <td>0.299515</td>\n",
       "      <td>358.311667</td>\n",
       "      <td>343.313462</td>\n",
       "      <td>14.998205</td>\n",
       "      <td>14.831795</td>\n",
       "      <td>0.166410</td>\n",
       "      <td>56.241067</td>\n",
       "      <td>23743792000</td>\n",
       "    </tr>\n",
       "  </tbody>\n",
       "</table>\n",
       "<p>4905 rows × 21 columns</p>\n",
       "</div>"
      ],
      "text/plain": [
       "            Date    Open    High     Low   Close     Volume  Dividends  \\\n",
       "0     2001-01-02    0.92    0.94    0.90    0.92  113078000        0.0   \n",
       "1     2001-01-03    0.90    1.03    0.89    1.01  204268400        0.0   \n",
       "2     2001-01-04    1.12    1.14    1.04    1.06  184849000        0.0   \n",
       "3     2001-01-05    1.05    1.07    0.99    1.01  103089000        0.0   \n",
       "4     2001-01-08    1.05    1.05    0.99    1.02   93424800        0.0   \n",
       "...          ...     ...     ...     ...     ...        ...        ...   \n",
       "4900  2020-06-25  360.70  365.00  357.57  364.84   34380600        0.0   \n",
       "4901  2020-06-26  364.41  365.32  353.02  353.63   51314200        0.0   \n",
       "4902  2020-06-29  353.25  362.17  351.28  361.78   32661500        0.0   \n",
       "4903  2020-06-30  360.08  365.98  360.00  364.80   35055800        0.0   \n",
       "4904  2020-07-01  365.12  367.36  363.91  364.11   27684300        0.0   \n",
       "\n",
       "      Stock Splits    20d_ma   Bol_upper  ...       PDI       MDI       ADX  \\\n",
       "0              0.0       NaN         NaN  ...       NaN       NaN       NaN   \n",
       "1              0.0       NaN         NaN  ...  0.642857  0.000000  1.000000   \n",
       "2              0.0       NaN         NaN  ...  0.748011  0.000000  1.000000   \n",
       "3              0.0       NaN         NaN  ...  0.547083  0.167885  0.820600   \n",
       "4              0.0       NaN         NaN  ...  0.443896  0.136220  0.731810   \n",
       "...            ...       ...         ...  ...       ...       ...       ...   \n",
       "4900           0.0  342.2735  372.843222  ...  0.310221  0.160156  0.402243   \n",
       "4901           0.0  344.0580  372.756339  ...  0.258546  0.195097  0.367260   \n",
       "4902           0.0  346.0545  373.787166  ...  0.220947  0.189961  0.328346   \n",
       "4903           0.0  348.1275  374.892470  ...  0.256059  0.173935  0.310032   \n",
       "4904           0.0  350.0770  375.428472  ...  0.263713  0.164686  0.299515   \n",
       "\n",
       "         EMAFast     EMASlow       MACD  MACDSignal  MACDDiff        RSI  \\\n",
       "0            NaN         NaN        NaN         NaN       NaN        NaN   \n",
       "1            NaN         NaN        NaN         NaN       NaN        NaN   \n",
       "2            NaN         NaN        NaN         NaN       NaN        NaN   \n",
       "3            NaN         NaN        NaN         NaN       NaN        NaN   \n",
       "4            NaN         NaN        NaN         NaN       NaN        NaN   \n",
       "...          ...         ...        ...         ...       ...        ...   \n",
       "4900  352.162500  336.674231  15.488269   13.421859  2.066410  70.781759   \n",
       "4901  352.228333  337.997308  14.231026   13.902877  0.328148  52.462578   \n",
       "4902  354.385000  339.725385  14.659615   14.294679  0.364936  60.165891   \n",
       "4903  356.551667  341.491154  15.060513   14.611980  0.448533  64.948454   \n",
       "4904  358.311667  343.313462  14.998205   14.831795  0.166410  56.241067   \n",
       "\n",
       "              OBV  \n",
       "0       113078000  \n",
       "1       317346400  \n",
       "2       502195400  \n",
       "3       399106400  \n",
       "4       492531200  \n",
       "...           ...  \n",
       "4900  23755073200  \n",
       "4901  23703759000  \n",
       "4902  23736420500  \n",
       "4903  23771476300  \n",
       "4904  23743792000  \n",
       "\n",
       "[4905 rows x 21 columns]"
      ]
     },
     "execution_count": 10,
     "metadata": {},
     "output_type": "execute_result"
    }
   ],
   "source": [
    "#get indicators\n",
    "bolingerband(data)\n",
    "dmi(data)\n",
    "macd(data)\n",
    "rsi(data)\n",
    "obv(data)\n"
   ]
  },
  {
   "cell_type": "code",
   "execution_count": 15,
   "metadata": {},
   "outputs": [
    {
     "data": {
      "text/plain": [
       "<matplotlib.axes._subplots.AxesSubplot at 0x2952b845b08>"
      ]
     },
     "execution_count": 15,
     "metadata": {},
     "output_type": "execute_result"
    },
    {
     "data": {
      "image/png": "[encoded data removed]",
      "text/plain": [
       "<Figure size 432x288 with 1 Axes>"
      ]
     },
     "metadata": {
      "needs_background": "light"
     },
     "output_type": "display_data"
    }
   ],
   "source": [
    "data[['PDI', 'MDI', 'Close']][100:200].plot()"
   ]
  },
  {
   "cell_type": "code",
   "execution_count": 14,
   "metadata": {},
   "outputs": [
    {
     "data": {
      "text/plain": [
       "<matplotlib.axes._subplots.AxesSubplot at 0x2952b7d0d88>"
      ]
     },
     "execution_count": 14,
     "metadata": {},
     "output_type": "execute_result"
    },
    {
     "data": {
      "image/png": "[encoded data removed]",
      "text/plain": [
       "<Figure size 432x288 with 1 Axes>"
      ]
     },
     "metadata": {
      "needs_background": "light"
     },
     "output_type": "display_data"
    }
   ],
   "source": [
    "data[['ADX']][100:200].plot()"
   ]
  },
  {
   "cell_type": "code",
   "execution_count": 17,
   "metadata": {},
   "outputs": [
    {
     "name": "stdout",
     "output_type": "stream",
     "text": [
      "   A    B\n",
      "0  1  0.5\n",
      "1  2  3.0\n",
      "2  3  1.0\n",
      "3  4  1.0\n",
      "4  5  6.0\n"
     ]
    }
   ],
   "source": [
    "import pandas as pd\n",
    "import numpy as np\n",
    "\n",
    "df = pd.DataFrame({\"A\":[1,2,3,4,5], \"B\":[0.5,3,1,1,6]})\n",
    "print(df)"
   ]
  },
  {
   "cell_type": "code",
   "execution_count": 19,
   "metadata": {},
   "outputs": [
    {
     "data": {
      "text/plain": [
       "<matplotlib.axes._subplots.AxesSubplot at 0x2952c9064c8>"
      ]
     },
     "execution_count": 19,
     "metadata": {},
     "output_type": "execute_result"
    },
    {
     "data": {
      "image/png": "[encoded data removed]",
      "text/plain": [
       "<Figure size 432x288 with 1 Axes>"
      ]
     },
     "metadata": {
      "needs_background": "light"
     },
     "output_type": "display_data"
    }
   ],
   "source": [
    "df.plot()"
   ]
  },
  {
   "cell_type": "code",
   "execution_count": 18,
   "metadata": {},
   "outputs": [
    {
     "name": "stderr",
     "output_type": "stream",
     "text": [
      "C:\\Users\\sundooedu\\AppData\\Roaming\\Python\\Python37\\site-packages\\pandas\\core\\series.py:679: RuntimeWarning: invalid value encountered in sign\n",
      "  result = getattr(ufunc, method)(*inputs, **kwargs)\n"
     ]
    },
    {
     "data": {
      "text/plain": [
       "3"
      ]
     },
     "execution_count": 18,
     "metadata": {},
     "output_type": "execute_result"
    }
   ],
   "source": [
    "df['difference'] = df.A - df.B\n",
    "\n",
    "df['cross'] = np.sign(df.difference.shift(1))!=np.sign(df.difference)\n",
    "np.sum(df.cross)-1"
   ]
  },
  {
   "cell_type": "code",
   "execution_count": null,
   "metadata": {},
   "outputs": [],
   "source": []
  }
 ],
 "metadata": {
  "kernelspec": {
   "display_name": "Python 3",
   "language": "python",
   "name": "python3"
  },
  "language_info": {
   "codemirror_mode": {
    "name": "ipython",
    "version": 3
   },
   "file_extension": ".py",
   "mimetype": "text/x-python",
   "name": "python",
   "nbconvert_exporter": "python",
   "pygments_lexer": "ipython3",
   "version": "3.7.6"
  }
 },
 "nbformat": 4,
 "nbformat_minor": 4
}
